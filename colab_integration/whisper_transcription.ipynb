{
 "cells": [
  {
   "cell_type": "code",
   "execution_count": 6,
   "id": "de3c02e0-73d1-438b-b267-8a2b1c4cdf39",
   "metadata": {},
   "outputs": [
    {
     "name": "stdout",
     "output_type": "stream",
     "text": [
      "Requirement already satisfied: openai in c:\\users\\kanth\\anaconda3\\lib\\site-packages (1.65.4)\n",
      "Requirement already satisfied: anyio<5,>=3.5.0 in c:\\users\\kanth\\anaconda3\\lib\\site-packages (from openai) (4.2.0)\n",
      "Requirement already satisfied: distro<2,>=1.7.0 in c:\\users\\kanth\\anaconda3\\lib\\site-packages (from openai) (1.9.0)\n",
      "Requirement already satisfied: httpx<1,>=0.23.0 in c:\\users\\kanth\\anaconda3\\lib\\site-packages (from openai) (0.27.0)\n",
      "Requirement already satisfied: jiter<1,>=0.4.0 in c:\\users\\kanth\\anaconda3\\lib\\site-packages (from openai) (0.8.2)\n",
      "Requirement already satisfied: pydantic<3,>=1.9.0 in c:\\users\\kanth\\anaconda3\\lib\\site-packages (from openai) (2.8.2)\n",
      "Requirement already satisfied: sniffio in c:\\users\\kanth\\anaconda3\\lib\\site-packages (from openai) (1.3.0)\n",
      "Requirement already satisfied: tqdm>4 in c:\\users\\kanth\\anaconda3\\lib\\site-packages (from openai) (4.66.5)\n",
      "Requirement already satisfied: typing-extensions<5,>=4.11 in c:\\users\\kanth\\anaconda3\\lib\\site-packages (from openai) (4.11.0)\n",
      "Requirement already satisfied: idna>=2.8 in c:\\users\\kanth\\anaconda3\\lib\\site-packages (from anyio<5,>=3.5.0->openai) (3.7)\n",
      "Requirement already satisfied: certifi in c:\\users\\kanth\\anaconda3\\lib\\site-packages (from httpx<1,>=0.23.0->openai) (2025.1.31)\n",
      "Requirement already satisfied: httpcore==1.* in c:\\users\\kanth\\anaconda3\\lib\\site-packages (from httpx<1,>=0.23.0->openai) (1.0.2)\n",
      "Requirement already satisfied: h11<0.15,>=0.13 in c:\\users\\kanth\\anaconda3\\lib\\site-packages (from httpcore==1.*->httpx<1,>=0.23.0->openai) (0.14.0)\n",
      "Requirement already satisfied: annotated-types>=0.4.0 in c:\\users\\kanth\\anaconda3\\lib\\site-packages (from pydantic<3,>=1.9.0->openai) (0.6.0)\n",
      "Requirement already satisfied: pydantic-core==2.20.1 in c:\\users\\kanth\\anaconda3\\lib\\site-packages (from pydantic<3,>=1.9.0->openai) (2.20.1)\n",
      "Requirement already satisfied: colorama in c:\\users\\kanth\\anaconda3\\lib\\site-packages (from tqdm>4->openai) (0.4.6)\n",
      "Requirement already satisfied: torch in c:\\users\\kanth\\anaconda3\\lib\\site-packages (2.6.0)\n",
      "Requirement already satisfied: filelock in c:\\users\\kanth\\anaconda3\\lib\\site-packages (from torch) (3.13.1)\n",
      "Requirement already satisfied: typing-extensions>=4.10.0 in c:\\users\\kanth\\anaconda3\\lib\\site-packages (from torch) (4.11.0)\n",
      "Requirement already satisfied: networkx in c:\\users\\kanth\\anaconda3\\lib\\site-packages (from torch) (3.3)\n",
      "Requirement already satisfied: jinja2 in c:\\users\\kanth\\anaconda3\\lib\\site-packages (from torch) (3.1.4)\n",
      "Requirement already satisfied: fsspec in c:\\users\\kanth\\anaconda3\\lib\\site-packages (from torch) (2024.6.1)\n",
      "Requirement already satisfied: setuptools in c:\\users\\kanth\\anaconda3\\lib\\site-packages (from torch) (75.1.0)\n",
      "Requirement already satisfied: sympy==1.13.1 in c:\\users\\kanth\\anaconda3\\lib\\site-packages (from torch) (1.13.1)\n",
      "Requirement already satisfied: mpmath<1.4,>=1.1.0 in c:\\users\\kanth\\anaconda3\\lib\\site-packages (from sympy==1.13.1->torch) (1.3.0)\n",
      "Requirement already satisfied: MarkupSafe>=2.0 in c:\\users\\kanth\\anaconda3\\lib\\site-packages (from jinja2->torch) (2.1.3)\n"
     ]
    }
   ],
   "source": [
    "!pip install openai\n",
    "!pip install torch"
   ]
  },
  {
   "cell_type": "code",
   "execution_count": 8,
   "id": "580313d5-c8fb-4ee9-b79d-c60e1e719f7b",
   "metadata": {},
   "outputs": [],
   "source": [
    "!pip install -q requests torch transformers"
   ]
  },
  {
   "cell_type": "code",
   "execution_count": 12,
   "id": "5e2089e6-bbab-4fdd-83e1-d0311d54d736",
   "metadata": {},
   "outputs": [
    {
     "name": "stdout",
     "output_type": "stream",
     "text": [
      "Requirement already satisfied: python-dotenv in c:\\users\\kanth\\anaconda3\\lib\\site-packages (0.21.0)\n"
     ]
    }
   ],
   "source": [
    "!pip install python-dotenv\n"
   ]
  },
  {
   "cell_type": "code",
   "execution_count": null,
   "id": "307281b8-d658-48de-a9ac-4d009604a2bd",
   "metadata": {},
   "outputs": [],
   "source": [
    "import os\n",
    "import requests\n",
    "from IPython.display import Audio, display, Markdown\n",
    "from tkinter import Tk, filedialog\n",
    "from dotenv import load_dotenv\n",
    "\n",
    "# Load environment variables\n",
    "load_dotenv()\n",
    "\n",
    "# Function to transcribe audio using your backend\n",
    "def transcribe_audio(audio_file_path):\n",
    "    url = \"http://localhost:5000/api/whisper/transcribe\"\n",
    "    \n",
    "    with open(audio_file_path, 'rb') as file:\n",
    "        files = {'audio': file}\n",
    "        response = requests.post(url, files=files)\n",
    "        \n",
    "    if response.status_code == 200:\n",
    "        print(\"✅ Audio transcribed successfully!\")\n",
    "        return response.json()['text']\n",
    "    else:\n",
    "        print(f\"❌ Failed to transcribe audio: {response.status_code}\")\n",
    "        print(response.text)\n",
    "        return None\n",
    "\n",
    "# Open file dialog to select audio file\n",
    "root = Tk()\n",
    "root.withdraw()  # hide tkinter root window\n",
    "audio_filename = filedialog.askopenfilename(title=\"Select an audio file\")\n",
    "\n",
    "if audio_filename:\n",
    "    print(f\"Selected file: {audio_filename}\")\n",
    "    transcript = transcribe_audio(audio_filename)\n",
    "    if transcript:\n",
    "        print(\"Transcript:\")\n",
    "        print(transcript)\n",
    "        display(Markdown(transcript))\n",
    "        \n",
    "        # Optional: Save to history\n",
    "        user_id = input(\"Enter your user ID to save to history (or press Enter to skip): \")\n",
    "        if user_id:\n",
    "            history_url = \"http://localhost:5000/api/history/save\"\n",
    "            data = {\n",
    "                \"userId\": user_id,\n",
    "                \"original_audio\": os.path.basename(audio_filename),\n",
    "                \"transcript\": transcript\n",
    "            }\n",
    "            save_response = requests.post(history_url, json=data)\n",
    "            if save_response.status_code == 200:\n",
    "                print(\"✅ Saved to history!\")\n",
    "            else:\n",
    "                print(f\"❌ Failed to save to history: {save_response.text}\")\n",
    "else:\n",
    "    print(\"No file selected\")"
   ]
  },
  {
   "cell_type": "code",
   "execution_count": null,
   "id": "9a2f7fd0-4b83-4535-a33e-74f0f0ef5da0",
   "metadata": {},
   "outputs": [],
   "source": []
  }
 ],
 "metadata": {
  "kernelspec": {
   "display_name": "Python [conda env:base] *",
   "language": "python",
   "name": "conda-base-py"
  },
  "language_info": {
   "codemirror_mode": {
    "name": "ipython",
    "version": 3
   },
   "file_extension": ".py",
   "mimetype": "text/x-python",
   "name": "python",
   "nbconvert_exporter": "python",
   "pygments_lexer": "ipython3",
   "version": "3.12.7"
  }
 },
 "nbformat": 4,
 "nbformat_minor": 5
}
