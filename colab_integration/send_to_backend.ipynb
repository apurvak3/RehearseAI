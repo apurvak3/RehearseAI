{
 "cells": [
  {
   "cell_type": "code",
   "execution_count": 1,
   "id": "e3baa938-5ed4-4b5d-973f-3a2557a6c9aa",
   "metadata": {},
   "outputs": [
    {
     "name": "stdout",
     "output_type": "stream",
     "text": [
      "Requirement already satisfied: requests in c:\\users\\kanth\\anaconda3\\lib\\site-packages (2.32.3)\n",
      "Requirement already satisfied: charset-normalizer<4,>=2 in c:\\users\\kanth\\anaconda3\\lib\\site-packages (from requests) (3.3.2)\n",
      "Requirement already satisfied: idna<4,>=2.5 in c:\\users\\kanth\\anaconda3\\lib\\site-packages (from requests) (3.7)\n",
      "Requirement already satisfied: urllib3<3,>=1.21.1 in c:\\users\\kanth\\anaconda3\\lib\\site-packages (from requests) (2.2.3)\n",
      "Requirement already satisfied: certifi>=2017.4.17 in c:\\users\\kanth\\anaconda3\\lib\\site-packages (from requests) (2025.1.31)\n"
     ]
    }
   ],
   "source": [
    "!pip install requests"
   ]
  },
  {
   "cell_type": "code",
   "execution_count": 2,
   "id": "e9b93133-02b5-4f19-8a72-99183485f457",
   "metadata": {},
   "outputs": [],
   "source": [
    "import requests"
   ]
  },
  {
   "cell_type": "code",
   "execution_count": 5,
   "id": "941f7750-681e-4011-a2ca-e5f293ab24f7",
   "metadata": {},
   "outputs": [],
   "source": [
    "backend_url = \"http://localhost:5000/api/history/save\""
   ]
  },
  {
   "cell_type": "code",
   "execution_count": 7,
   "id": "136f8b6c-e9c0-4e4b-8439-8b93b2e16ec4",
   "metadata": {},
   "outputs": [],
   "source": [
    "data = {\n",
    "    \"userId\": \"Apurva_k3\",    # Set proper userId\n",
    "    \"original_audio\": \"your_audio.mp3\",\n",
    "    \"transcript\": \"Paste your polished transcript here.\"\n",
    "}"
   ]
  },
  {
   "cell_type": "code",
   "execution_count": null,
   "id": "4fa20f3c-a3fb-423d-8c39-d750638e0d3b",
   "metadata": {},
   "outputs": [],
   "source": [
    "response = requests.post(backend_url, json=data)\n",
    "\n",
    "if response.status_code == 200:\n",
    "    print(\"✅ Transcript saved successfully!\")\n",
    "else:\n",
    "    print(f\"❌ Failed to save transcript: {response.text}\")"
   ]
  },
  {
   "cell_type": "code",
   "execution_count": null,
   "id": "f0ea98a4-f89e-4d26-ba95-e393b20ac2cb",
   "metadata": {},
   "outputs": [],
   "source": []
  }
 ],
 "metadata": {
  "kernelspec": {
   "display_name": "Python [conda env:base] *",
   "language": "python",
   "name": "conda-base-py"
  },
  "language_info": {
   "codemirror_mode": {
    "name": "ipython",
    "version": 3
   },
   "file_extension": ".py",
   "mimetype": "text/x-python",
   "name": "python",
   "nbconvert_exporter": "python",
   "pygments_lexer": "ipython3",
   "version": "3.12.7"
  }
 },
 "nbformat": 4,
 "nbformat_minor": 5
}
