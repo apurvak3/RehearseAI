!pip install requests


import requests


backend_url = "http://localhost:5000/api/history/save"


data = {
    "userId": "Apurva_k3",    # Set proper userId
    "original_audio": "your_audio.mp3",
    "transcript": "Paste your polished transcript here."
}


response = requests.post(backend_url, json=data)

if response.status_code == 200:
    print("✅ Transcript saved successfully!")
else:
    print(f"❌ Failed to save transcript: {response.text}")



