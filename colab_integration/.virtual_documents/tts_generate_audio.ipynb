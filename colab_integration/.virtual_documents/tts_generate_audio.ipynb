!pip install requests
!pip install IPython


# Import libraries
import os
import requests
from IPython.display import Audio, display



from dotenv import load_dotenv
import os

# .env file ko load karo
load_dotenv()

# Variables ko access karo
eleven_api_key = os.getenv("ELEVEN_LABS_API_KEY")
voice_id = os.getenv("ELEVEN_LABS_VOICE_ID")

print("✅ API keys loaded from .env!")




text_to_speak = """
Paste your script text here. Practice dialogues, speeches or any lines.
"""

# Emotion/Style Selection
emotion = "excited"


url = f"https://api.elevenlabs.io/v1/text-to-speech/{VOICE_ID}"


headers = {
    "xi-api-key": ELEVEN_API_KEY,
    "Content-Type": "application/json"
}

# Send request
response = requests.post(url, headers=headers, json=payload)

if response.status_code == 200:
    print("✅ Audio generated!")
    with open("/content/tts_output.mp3", "wb") as f:
        f.write(response.content)
    
    display(Audio("/content/tts_output.mp3", autoplay=True))
else:
    print(f"❌ Failed to generate audio: {response.status_code}")
    print(response.text)



