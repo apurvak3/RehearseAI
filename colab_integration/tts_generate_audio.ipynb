{
 "cells": [
  {
   "cell_type": "code",
   "execution_count": 1,
   "id": "9fc82117",
   "metadata": {
    "vscode": {
     "languageId": "plaintext"
    }
   },
   "outputs": [
    {
     "name": "stdout",
     "output_type": "stream",
     "text": [
      "Requirement already satisfied: requests in c:\\users\\kanth\\anaconda3\\lib\\site-packages (2.32.3)\n",
      "Requirement already satisfied: charset-normalizer<4,>=2 in c:\\users\\kanth\\anaconda3\\lib\\site-packages (from requests) (3.3.2)\n",
      "Requirement already satisfied: idna<4,>=2.5 in c:\\users\\kanth\\anaconda3\\lib\\site-packages (from requests) (3.7)\n",
      "Requirement already satisfied: urllib3<3,>=1.21.1 in c:\\users\\kanth\\anaconda3\\lib\\site-packages (from requests) (2.2.3)\n",
      "Requirement already satisfied: certifi>=2017.4.17 in c:\\users\\kanth\\anaconda3\\lib\\site-packages (from requests) (2025.1.31)\n",
      "Requirement already satisfied: IPython in c:\\users\\kanth\\anaconda3\\lib\\site-packages (8.27.0)\n",
      "Requirement already satisfied: decorator in c:\\users\\kanth\\anaconda3\\lib\\site-packages (from IPython) (5.1.1)\n",
      "Requirement already satisfied: jedi>=0.16 in c:\\users\\kanth\\anaconda3\\lib\\site-packages (from IPython) (0.19.1)\n",
      "Requirement already satisfied: matplotlib-inline in c:\\users\\kanth\\anaconda3\\lib\\site-packages (from IPython) (0.1.6)\n",
      "Requirement already satisfied: prompt-toolkit<3.1.0,>=3.0.41 in c:\\users\\kanth\\anaconda3\\lib\\site-packages (from IPython) (3.0.43)\n",
      "Requirement already satisfied: pygments>=2.4.0 in c:\\users\\kanth\\anaconda3\\lib\\site-packages (from IPython) (2.15.1)\n",
      "Requirement already satisfied: stack-data in c:\\users\\kanth\\anaconda3\\lib\\site-packages (from IPython) (0.2.0)\n",
      "Requirement already satisfied: traitlets>=5.13.0 in c:\\users\\kanth\\anaconda3\\lib\\site-packages (from IPython) (5.14.3)\n",
      "Requirement already satisfied: colorama in c:\\users\\kanth\\anaconda3\\lib\\site-packages (from IPython) (0.4.6)\n",
      "Requirement already satisfied: parso<0.9.0,>=0.8.3 in c:\\users\\kanth\\anaconda3\\lib\\site-packages (from jedi>=0.16->IPython) (0.8.3)\n",
      "Requirement already satisfied: wcwidth in c:\\users\\kanth\\anaconda3\\lib\\site-packages (from prompt-toolkit<3.1.0,>=3.0.41->IPython) (0.2.5)\n",
      "Requirement already satisfied: executing in c:\\users\\kanth\\anaconda3\\lib\\site-packages (from stack-data->IPython) (0.8.3)\n",
      "Requirement already satisfied: asttokens in c:\\users\\kanth\\anaconda3\\lib\\site-packages (from stack-data->IPython) (2.0.5)\n",
      "Requirement already satisfied: pure-eval in c:\\users\\kanth\\anaconda3\\lib\\site-packages (from stack-data->IPython) (0.2.2)\n",
      "Requirement already satisfied: six in c:\\users\\kanth\\anaconda3\\lib\\site-packages (from asttokens->stack-data->IPython) (1.16.0)\n"
     ]
    }
   ],
   "source": [
    "!pip install requests\n",
    "!pip install IPython"
   ]
  },
  {
   "cell_type": "code",
   "execution_count": 7,
   "id": "84895a79-8762-46e0-a0c9-157e3fedf5f2",
   "metadata": {},
   "outputs": [
    {
     "name": "stdout",
     "output_type": "stream",
     "text": [
      "Collecting elevenlabsNote: you may need to restart the kernel to use updated packages.\n",
      "\n",
      "  Downloading elevenlabs-1.57.0-py3-none-any.whl.metadata (7.3 kB)\n",
      "Requirement already satisfied: httpx>=0.21.2 in c:\\users\\kanth\\anaconda3\\lib\\site-packages (from elevenlabs) (0.27.0)\n",
      "Requirement already satisfied: pydantic>=1.9.2 in c:\\users\\kanth\\anaconda3\\lib\\site-packages (from elevenlabs) (2.8.2)\n",
      "Requirement already satisfied: pydantic-core<3.0.0,>=2.18.2 in c:\\users\\kanth\\anaconda3\\lib\\site-packages (from elevenlabs) (2.20.1)\n",
      "Requirement already satisfied: requests>=2.20 in c:\\users\\kanth\\anaconda3\\lib\\site-packages (from elevenlabs) (2.32.3)\n",
      "Requirement already satisfied: typing_extensions>=4.0.0 in c:\\users\\kanth\\anaconda3\\lib\\site-packages (from elevenlabs) (4.11.0)\n",
      "Collecting websockets>=11.0 (from elevenlabs)\n",
      "  Using cached websockets-15.0.1-cp312-cp312-win_amd64.whl.metadata (7.0 kB)\n",
      "Requirement already satisfied: anyio in c:\\users\\kanth\\anaconda3\\lib\\site-packages (from httpx>=0.21.2->elevenlabs) (4.2.0)\n",
      "Requirement already satisfied: certifi in c:\\users\\kanth\\anaconda3\\lib\\site-packages (from httpx>=0.21.2->elevenlabs) (2025.1.31)\n",
      "Requirement already satisfied: httpcore==1.* in c:\\users\\kanth\\anaconda3\\lib\\site-packages (from httpx>=0.21.2->elevenlabs) (1.0.2)\n",
      "Requirement already satisfied: idna in c:\\users\\kanth\\anaconda3\\lib\\site-packages (from httpx>=0.21.2->elevenlabs) (3.7)\n",
      "Requirement already satisfied: sniffio in c:\\users\\kanth\\anaconda3\\lib\\site-packages (from httpx>=0.21.2->elevenlabs) (1.3.0)\n",
      "Requirement already satisfied: h11<0.15,>=0.13 in c:\\users\\kanth\\anaconda3\\lib\\site-packages (from httpcore==1.*->httpx>=0.21.2->elevenlabs) (0.14.0)\n",
      "Requirement already satisfied: annotated-types>=0.4.0 in c:\\users\\kanth\\anaconda3\\lib\\site-packages (from pydantic>=1.9.2->elevenlabs) (0.6.0)\n",
      "Requirement already satisfied: charset-normalizer<4,>=2 in c:\\users\\kanth\\anaconda3\\lib\\site-packages (from requests>=2.20->elevenlabs) (3.3.2)\n",
      "Requirement already satisfied: urllib3<3,>=1.21.1 in c:\\users\\kanth\\anaconda3\\lib\\site-packages (from requests>=2.20->elevenlabs) (2.2.3)\n",
      "Downloading elevenlabs-1.57.0-py3-none-any.whl (452 kB)\n",
      "Downloading websockets-15.0.1-cp312-cp312-win_amd64.whl (176 kB)\n",
      "Installing collected packages: websockets, elevenlabs\n",
      "Successfully installed elevenlabs-1.57.0 websockets-15.0.1\n"
     ]
    }
   ],
   "source": [
    "pip install elevenlabs\n"
   ]
  },
  {
   "cell_type": "code",
   "execution_count": null,
   "id": "892fa3a4-a4a9-4c5a-81ce-1adb0dd8cf91",
   "metadata": {},
   "outputs": [],
   "source": [
    "import os\n",
    "import requests\n",
    "from IPython.display import Audio, display\n",
    "from dotenv import load_dotenv\n",
    "\n",
    "# Load environment variables\n",
    "load_dotenv()\n",
    "\n",
    "# Function to generate speech using your backend\n",
    "def generate_speech(text, emotion=\"neutral\"):\n",
    "    url = \"http://localhost:5000/api/tts/generate\"\n",
    "    \n",
    "    payload = {\n",
    "        \"text\": text,\n",
    "        \"emotion\": emotion\n",
    "    }\n",
    "    \n",
    "    response = requests.post(url, json=payload)\n",
    "    \n",
    "    if response.status_code == 200:\n",
    "        print(\"✅ Speech generated successfully!\")\n",
    "        \n",
    "        # Save the audio file\n",
    "        output_file = \"generated_speech.mp3\"\n",
    "        with open(output_file, \"wb\") as f:\n",
    "            f.write(response.content)\n",
    "        \n",
    "        # Play the audio\n",
    "        display(Audio(output_file, autoplay=True))\n",
    "        return output_file\n",
    "    else:\n",
    "        print(f\"❌ Failed to generate speech: {response.status_code}\")\n",
    "        print(response.text)\n",
    "        return None\n",
    "\n",
    "# Input for text and emotion\n",
    "text_to_speak = input(\"Enter text to convert to speech: \")\n",
    "print(\"\\nAvailable emotions: neutral, happy, sad, angry, excited\")\n",
    "emotion = input(\"Enter emotion (default: neutral): \") or \"neutral\"\n",
    "\n",
    "if text_to_speak:\n",
    "    audio_file = generate_speech(text_to_speak, emotion)\n",
    "    \n",
    "    # Optional: Save to history\n",
    "    if audio_file:\n",
    "        save_to_history = input(\"Do you want to save this to history? (y/n): \").lower()\n",
    "        if save_to_history == 'y':\n",
    "            user_id = input(\"Enter your user ID: \")\n",
    "            history_url = \"http://localhost:5000/api/history/save\"\n",
    "            data = {\n",
    "                \"userId\": user_id,\n",
    "                \"original_audio\": audio_file,\n",
    "                \"transcript\": text_to_speak\n",
    "            }\n",
    "            save_response = requests.post(history_url, json=data)\n",
    "            if save_response.status_code == 200:\n",
    "                print(\"✅ Saved to history!\")\n",
    "            else:\n",
    "                print(f\"❌ Failed to save to history: {save_response.text}\")"
   ]
  },
  {
   "cell_type": "code",
   "execution_count": null,
   "id": "ba8db664-cd61-425d-8893-826b831ece11",
   "metadata": {},
   "outputs": [],
   "source": []
  }
 ],
 "metadata": {
  "kernelspec": {
   "display_name": "Python 3 (ipykernel)",
   "language": "python",
   "name": "python3"
  },
  "language_info": {
   "codemirror_mode": {
    "name": "ipython",
    "version": 3
   },
   "file_extension": ".py",
   "mimetype": "text/x-python",
   "name": "python",
   "nbconvert_exporter": "python",
   "pygments_lexer": "ipython3",
   "version": "3.12.7"
  }
 },
 "nbformat": 4,
 "nbformat_minor": 5
}
