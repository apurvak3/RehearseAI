{
 "cells": [
  {
   "cell_type": "code",
   "execution_count": 1,
   "id": "9fc82117",
   "metadata": {
    "vscode": {
     "languageId": "plaintext"
    }
   },
   "outputs": [
    {
     "name": "stdout",
     "output_type": "stream",
     "text": [
      "Requirement already satisfied: requests in c:\\users\\kanth\\anaconda3\\lib\\site-packages (2.32.3)\n",
      "Requirement already satisfied: charset-normalizer<4,>=2 in c:\\users\\kanth\\anaconda3\\lib\\site-packages (from requests) (3.3.2)\n",
      "Requirement already satisfied: idna<4,>=2.5 in c:\\users\\kanth\\anaconda3\\lib\\site-packages (from requests) (3.7)\n",
      "Requirement already satisfied: urllib3<3,>=1.21.1 in c:\\users\\kanth\\anaconda3\\lib\\site-packages (from requests) (2.2.3)\n",
      "Requirement already satisfied: certifi>=2017.4.17 in c:\\users\\kanth\\anaconda3\\lib\\site-packages (from requests) (2025.1.31)\n",
      "Requirement already satisfied: IPython in c:\\users\\kanth\\anaconda3\\lib\\site-packages (8.27.0)\n",
      "Requirement already satisfied: decorator in c:\\users\\kanth\\anaconda3\\lib\\site-packages (from IPython) (5.1.1)\n",
      "Requirement already satisfied: jedi>=0.16 in c:\\users\\kanth\\anaconda3\\lib\\site-packages (from IPython) (0.19.1)\n",
      "Requirement already satisfied: matplotlib-inline in c:\\users\\kanth\\anaconda3\\lib\\site-packages (from IPython) (0.1.6)\n",
      "Requirement already satisfied: prompt-toolkit<3.1.0,>=3.0.41 in c:\\users\\kanth\\anaconda3\\lib\\site-packages (from IPython) (3.0.43)\n",
      "Requirement already satisfied: pygments>=2.4.0 in c:\\users\\kanth\\anaconda3\\lib\\site-packages (from IPython) (2.15.1)\n",
      "Requirement already satisfied: stack-data in c:\\users\\kanth\\anaconda3\\lib\\site-packages (from IPython) (0.2.0)\n",
      "Requirement already satisfied: traitlets>=5.13.0 in c:\\users\\kanth\\anaconda3\\lib\\site-packages (from IPython) (5.14.3)\n",
      "Requirement already satisfied: colorama in c:\\users\\kanth\\anaconda3\\lib\\site-packages (from IPython) (0.4.6)\n",
      "Requirement already satisfied: parso<0.9.0,>=0.8.3 in c:\\users\\kanth\\anaconda3\\lib\\site-packages (from jedi>=0.16->IPython) (0.8.3)\n",
      "Requirement already satisfied: wcwidth in c:\\users\\kanth\\anaconda3\\lib\\site-packages (from prompt-toolkit<3.1.0,>=3.0.41->IPython) (0.2.5)\n",
      "Requirement already satisfied: executing in c:\\users\\kanth\\anaconda3\\lib\\site-packages (from stack-data->IPython) (0.8.3)\n",
      "Requirement already satisfied: asttokens in c:\\users\\kanth\\anaconda3\\lib\\site-packages (from stack-data->IPython) (2.0.5)\n",
      "Requirement already satisfied: pure-eval in c:\\users\\kanth\\anaconda3\\lib\\site-packages (from stack-data->IPython) (0.2.2)\n",
      "Requirement already satisfied: six in c:\\users\\kanth\\anaconda3\\lib\\site-packages (from asttokens->stack-data->IPython) (1.16.0)\n"
     ]
    }
   ],
   "source": [
    "!pip install requests\n",
    "!pip install IPython"
   ]
  },
  {
   "cell_type": "code",
   "execution_count": 1,
   "id": "2d499339-446a-4183-8993-1aa83ac02bb7",
   "metadata": {},
   "outputs": [],
   "source": [
    "# Import libraries\n",
    "import os\n",
    "import requests\n",
    "from IPython.display import Audio, display\n"
   ]
  },
  {
   "cell_type": "code",
   "execution_count": 59,
   "id": "ab0d4dcb-4868-4e9a-92bd-3d28e8d6976a",
   "metadata": {},
   "outputs": [
    {
     "name": "stdout",
     "output_type": "stream",
     "text": [
      "✅ API keys loaded from .env!\n"
     ]
    }
   ],
   "source": [
    "from dotenv import load_dotenv\n",
    "import os\n",
    "\n",
    "# .env file ko load karo\n",
    "load_dotenv()\n",
    "\n",
    "# Variables ko access karo\n",
    "eleven_api_key = os.getenv(\"ELEVEN_LABS_API_KEY\")\n",
    "voice_id = os.getenv(\"ELEVEN_LABS_VOICE_ID\")\n",
    "\n",
    "print(\"✅ API keys loaded from .env!\")\n",
    "\n"
   ]
  },
  {
   "cell_type": "code",
   "execution_count": 61,
   "id": "f2dd5884-c17e-4f63-b2f5-0df54b6081dd",
   "metadata": {},
   "outputs": [],
   "source": [
    "text_to_speak = \"\"\"\n",
    "Paste your script text here. Practice dialogues, speeches or any lines.\n",
    "\"\"\"\n",
    "\n",
    "# Emotion/Style Selection\n",
    "emotion = \"excited\""
   ]
  },
  {
   "cell_type": "code",
   "execution_count": 63,
   "id": "c1522816-4478-4c17-a5a9-a2c7df448447",
   "metadata": {},
   "outputs": [],
   "source": [
    "url = f\"https://api.elevenlabs.io/v1/text-to-speech/{VOICE_ID}\""
   ]
  },
  {
   "cell_type": "code",
   "execution_count": 69,
   "id": "cca84b87-2ee2-41f7-b76b-f414608ed45b",
   "metadata": {},
   "outputs": [
    {
     "name": "stdout",
     "output_type": "stream",
     "text": [
      "❌ Failed to generate audio: 401\n",
      "{\"detail\":{\"status\":\"needs_authorization\",\"message\":\"Neither authorization header nor xi-api-key received, please provide one.\"}}\n"
     ]
    }
   ],
   "source": [
    "\n",
    "payload = {\n",
    "    \"text\": \"Hello, welcome to RehearseAI!\",\n",
    "    \"model_id\": \"eleven_multilingual_v1\",\n",
    "    \"voice_settings\": {\n",
    "        \"stability\": 0.4,          # ✅ allowed\n",
    "        \"similarity_boost\": 0.75    # ✅ allowed\n",
    "    }\n",
    "}\n",
    "\n",
    "headers = {\n",
    "    \"xi-api-key\": ELEVEN_API_KEY,\n",
    "    \"Content-Type\": \"application/json\"\n",
    "}\n",
    "\n",
    "# Send request\n",
    "response = requests.post(url, headers=headers, json=payload)\n",
    "\n",
    "if response.status_code == 200:\n",
    "    print(\"✅ Audio generated!\")\n",
    "    with open(\"/content/tts_output.mp3\", \"wb\") as f:\n",
    "        f.write(response.content)\n",
    "    \n",
    "    display(Audio(\"/content/tts_output.mp3\", autoplay=True))\n",
    "else:\n",
    "    print(f\"❌ Failed to generate audio: {response.status_code}\")\n",
    "    print(response.text)\n"
   ]
  },
  {
   "cell_type": "code",
   "execution_count": null,
   "id": "5a77aea6-ff5f-4d82-84b9-ab6f85c2c1d4",
   "metadata": {},
   "outputs": [],
   "source": []
  }
 ],
 "metadata": {
  "kernelspec": {
   "display_name": "Python 3 (ipykernel)",
   "language": "python",
   "name": "python3"
  },
  "language_info": {
   "codemirror_mode": {
    "name": "ipython",
    "version": 3
   },
   "file_extension": ".py",
   "mimetype": "text/x-python",
   "name": "python",
   "nbconvert_exporter": "python",
   "pygments_lexer": "ipython3",
   "version": "3.12.7"
  }
 },
 "nbformat": 4,
 "nbformat_minor": 5
}
